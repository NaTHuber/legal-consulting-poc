{
 "cells": [
  {
   "cell_type": "markdown",
   "id": "57ead98e",
   "metadata": {},
   "source": [
    "# Proyecto - Asesor legal para consultar historia de demandas.\n",
    "## Preparación de datos\n",
    "\n",
    "Para esta parte del proyecto se seguirá el siguiente esquema en código \n",
    "\n",
    "```mermaid\n",
    "    graph LR \n",
    "        A[ 1 <br> Carga y limpieza base]-->B[2 <br> Campos adicionales para filtrado y análisis]\n",
    "        B-->C[3 <br> Construcción del campo documento para RAG ]\n",
    "        C-->D[4 <br> Filtrado para esta PoC]\n",
    "        D-->E[5 <br> Guardar datasets limpios]\n",
    "```"
   ]
  },
  {
   "cell_type": "code",
   "execution_count": 6,
   "id": "0bd2692d",
   "metadata": {},
   "outputs": [],
   "source": [
    "import pandas as pd\n",
    "import numpy as np"
   ]
  },
  {
   "cell_type": "markdown",
   "id": "83caf32f",
   "metadata": {},
   "source": [
    "### 1. Carga y limpieza base"
   ]
  },
  {
   "cell_type": "code",
   "execution_count": 7,
   "id": "ba49ee50",
   "metadata": {},
   "outputs": [],
   "source": [
    "PATH = \"C:/Users/nat27/Desktop/Desktop/Proyectos/CienciaDatos/legal-consulting-poc/data/raw/sentencias_pasadas.xlsx\"\n",
    "df = pd.read_excel(PATH)"
   ]
  },
  {
   "cell_type": "code",
   "execution_count": 8,
   "id": "12b08953",
   "metadata": {},
   "outputs": [],
   "source": [
    "# Renombrar columnas a snake_case \n",
    "df = df.rename(columns={\n",
    "    '#': 'id_raw',\n",
    "    'Relevancia': 'relevancia',\n",
    "    'Providencia': 'providencia',\n",
    "    'Tipo': 'tipo',\n",
    "    'Fecha Sentencia': 'fecha_sentencia',\n",
    "    'Tema - subtema': 'tema_subtema',\n",
    "    'resuelve': 'resuelve',\n",
    "    'sintesis': 'sintesis'\n",
    "})\n",
    "\n",
    "# Asegurar tipos\n",
    "df['fecha_sentencia'] = pd.to_datetime(df['fecha_sentencia'], errors='coerce')\n",
    "\n",
    "# Limpiar texto (quitar espacios extra)\n",
    "def clean_text(x):\n",
    "    if pd.isna(x):\n",
    "        return np.nan\n",
    "    # Normalización básica\n",
    "    txt = str(x).strip()\n",
    "    # Reemplazos suaves de espacios\n",
    "    txt = \" \".join(txt.split())\n",
    "    return txt\n",
    "\n",
    "for col in ['providencia', 'tema_subtema', 'resuelve', 'sintesis', 'tipo']:\n",
    "    df[col] = df[col].apply(clean_text)\n",
    "\n",
    "# Rellenar faltantes\n",
    "df['tipo'] = df['tipo'].fillna('Desconocido')\n",
    "df['tema_subtema'] = df['tema_subtema'].fillna('No especificado')\n",
    "\n",
    "# Crear un id estable (por si el Excel cambia de orden)\n",
    "df = df.reset_index(drop=True)\n",
    "df['doc_id'] = df.index.astype(str)"
   ]
  },
  {
   "cell_type": "markdown",
   "id": "b4d98288",
   "metadata": {},
   "source": [
    "### 2. Campos adicionales para filtrado y análisis"
   ]
  },
  {
   "cell_type": "code",
   "execution_count": 9,
   "id": "a23448d5",
   "metadata": {},
   "outputs": [],
   "source": [
    "# Año para filtros rápidos\n",
    "df['anio'] = df['fecha_sentencia'].dt.year\n",
    "\n",
    "# Bandera de redes sociales (ajusta/expande el diccionario de keywords según tu conjunto)\n",
    "social_keywords = [\n",
    "    'redes sociales','facebook','instagram','twitter','x (twitter)','tiktok','youtube',\n",
    "    'whatsapp','telegram','mensajería', 'plataforma digital', 'publicación', 'post',\n",
    "    'comentario', 'perfil', 'cuenta', 'historia', 'story'\n",
    "]\n",
    "\n",
    "def contains_any(text, keywords):\n",
    "    if not isinstance(text, str):\n",
    "        return False\n",
    "    t = text.lower()\n",
    "    return any(k in t for k in keywords)\n",
    "\n",
    "# Marcamos si el caso parece estar vinculado a redes sociales usando varias columnas\n",
    "df['is_redes_sociales'] = (\n",
    "    df['tema_subtema'].apply(lambda x: contains_any(x, social_keywords)) |\n",
    "    df['sintesis'].apply(lambda x: contains_any(x, social_keywords)) |\n",
    "    df['resuelve'].apply(lambda x: contains_any(x, social_keywords)) |\n",
    "    df['providencia'].apply(lambda x: contains_any(x, social_keywords))\n",
    ")\n",
    "\n",
    "# Marcadores específicos que te piden en la prueba\n",
    "df['is_acoso_escolar'] = (\n",
    "    df['tema_subtema'].str.lower().str.contains('acoso escolar', na=False) |\n",
    "    df['sintesis'].str.lower().str.contains('acoso escolar', na=False)\n",
    ")\n",
    "\n",
    "df['mentions_piar'] = (\n",
    "    df['tema_subtema'].str.lower().str.contains('piar', na=False) |\n",
    "    df['sintesis'].str.lower().str.contains('piar', na=False) |\n",
    "    df['resuelve'].str.lower().str.contains('piar', na=False)\n",
    ")"
   ]
  },
  {
   "cell_type": "markdown",
   "id": "344e205f",
   "metadata": {},
   "source": [
    "### 3. Construcción del campo \"documento\" para RAG "
   ]
  },
  {
   "cell_type": "code",
   "execution_count": 10,
   "id": "a6e53a0c",
   "metadata": {},
   "outputs": [],
   "source": [
    "def build_document(row):\n",
    "    partes = []\n",
    "    partes.append(f\"Providencia: {row['providencia']}\" if pd.notna(row['providencia']) else \"\")\n",
    "    partes.append(f\"Tema/Subtema: {row['tema_subtema']}\" if pd.notna(row['tema_subtema']) else \"\")\n",
    "    partes.append(f\"Sintesis: {row['sintesis']}\" if pd.notna(row['sintesis']) else \"\")\n",
    "    partes.append(f\"Resuelve: {row['resuelve']}\" if pd.notna(row['resuelve']) else \"\")\n",
    "    partes.append(f\"Fecha sentencia: {row['fecha_sentencia'].date() if pd.notna(row['fecha_sentencia']) else 'Desconocida'}\")\n",
    "    partes.append(f\"Relevancia: {row['relevancia']}\" if pd.notna(row['relevancia']) else \"\")\n",
    "    partes.append(f\"Tipo: {row['tipo']}\" if pd.notna(row['tipo']) else \"\")\n",
    "    # Unimos con saltos de línea para mejorar la legibilidad en el contexto del LLM\n",
    "    return \"\\n\".join([p for p in partes if p])\n",
    "\n",
    "df['documento'] = df.apply(build_document, axis=1)"
   ]
  },
  {
   "cell_type": "markdown",
   "id": "a36a44f1",
   "metadata": {},
   "source": [
    "### 4. Filtrado para esta PoC: solo casos vinculados a redes sociales"
   ]
  },
  {
   "cell_type": "code",
   "execution_count": 11,
   "id": "8a51a427",
   "metadata": {},
   "outputs": [
    {
     "name": "stdout",
     "output_type": "stream",
     "text": [
      "Total casos: 329 | Casos vinculados a redes sociales: 180\n"
     ]
    }
   ],
   "source": [
    "df_rag = df[df['is_redes_sociales']].copy()\n",
    "\n",
    "print(f\"Total casos: {len(df)} | Casos vinculados a redes sociales: {len(df_rag)}\")"
   ]
  },
  {
   "cell_type": "markdown",
   "id": "57dad60c",
   "metadata": {},
   "source": [
    "### 5. Guardar datasets limpios"
   ]
  },
  {
   "cell_type": "code",
   "execution_count": 13,
   "id": "28484e6d",
   "metadata": {},
   "outputs": [
    {
     "data": {
      "text/html": [
       "<div>\n",
       "<style scoped>\n",
       "    .dataframe tbody tr th:only-of-type {\n",
       "        vertical-align: middle;\n",
       "    }\n",
       "\n",
       "    .dataframe tbody tr th {\n",
       "        vertical-align: top;\n",
       "    }\n",
       "\n",
       "    .dataframe thead th {\n",
       "        text-align: right;\n",
       "    }\n",
       "</style>\n",
       "<table border=\"1\" class=\"dataframe\">\n",
       "  <thead>\n",
       "    <tr style=\"text-align: right;\">\n",
       "      <th></th>\n",
       "      <th>doc_id</th>\n",
       "      <th>tema_subtema</th>\n",
       "      <th>is_acoso_escolar</th>\n",
       "      <th>mentions_piar</th>\n",
       "    </tr>\n",
       "  </thead>\n",
       "  <tbody>\n",
       "    <tr>\n",
       "      <th>0</th>\n",
       "      <td>0</td>\n",
       "      <td>No especificado</td>\n",
       "      <td>False</td>\n",
       "      <td>False</td>\n",
       "    </tr>\n",
       "    <tr>\n",
       "      <th>1</th>\n",
       "      <td>1</td>\n",
       "      <td>ACCIÓN DE TUTELA PARA PROTEGER EL DERECHO A LA...</td>\n",
       "      <td>False</td>\n",
       "      <td>False</td>\n",
       "    </tr>\n",
       "    <tr>\n",
       "      <th>2</th>\n",
       "      <td>2</td>\n",
       "      <td>ACCIÓN DE TUTELA PARA PROTEGER EL DERECHO A LA...</td>\n",
       "      <td>False</td>\n",
       "      <td>False</td>\n",
       "    </tr>\n",
       "    <tr>\n",
       "      <th>3</th>\n",
       "      <td>3</td>\n",
       "      <td>ACCION DE TUTELA PARA PROTEGER EL DERECHO A LA...</td>\n",
       "      <td>False</td>\n",
       "      <td>False</td>\n",
       "    </tr>\n",
       "    <tr>\n",
       "      <th>4</th>\n",
       "      <td>4</td>\n",
       "      <td>ACCION DE TUTELA-Inexistencia de hecho superad...</td>\n",
       "      <td>False</td>\n",
       "      <td>False</td>\n",
       "    </tr>\n",
       "    <tr>\n",
       "      <th>5</th>\n",
       "      <td>5</td>\n",
       "      <td>No especificado</td>\n",
       "      <td>False</td>\n",
       "      <td>False</td>\n",
       "    </tr>\n",
       "    <tr>\n",
       "      <th>6</th>\n",
       "      <td>6</td>\n",
       "      <td>No especificado</td>\n",
       "      <td>False</td>\n",
       "      <td>False</td>\n",
       "    </tr>\n",
       "    <tr>\n",
       "      <th>7</th>\n",
       "      <td>7</td>\n",
       "      <td>DERECHO A LA INTIMIDAD-Alcance y contenido DER...</td>\n",
       "      <td>False</td>\n",
       "      <td>False</td>\n",
       "    </tr>\n",
       "    <tr>\n",
       "      <th>8</th>\n",
       "      <td>8</td>\n",
       "      <td>CARENCIA ACTUAL DE OBJETO POR DAÑO CONSUMADO-D...</td>\n",
       "      <td>False</td>\n",
       "      <td>False</td>\n",
       "    </tr>\n",
       "    <tr>\n",
       "      <th>9</th>\n",
       "      <td>9</td>\n",
       "      <td>ACCION DE TUTELA CONTRA PARTICULARES-Solicitud...</td>\n",
       "      <td>False</td>\n",
       "      <td>False</td>\n",
       "    </tr>\n",
       "  </tbody>\n",
       "</table>\n",
       "</div>"
      ],
      "text/plain": [
       "  doc_id                                       tema_subtema  is_acoso_escolar  \\\n",
       "0      0                                    No especificado             False   \n",
       "1      1  ACCIÓN DE TUTELA PARA PROTEGER EL DERECHO A LA...             False   \n",
       "2      2  ACCIÓN DE TUTELA PARA PROTEGER EL DERECHO A LA...             False   \n",
       "3      3  ACCION DE TUTELA PARA PROTEGER EL DERECHO A LA...             False   \n",
       "4      4  ACCION DE TUTELA-Inexistencia de hecho superad...             False   \n",
       "5      5                                    No especificado             False   \n",
       "6      6                                    No especificado             False   \n",
       "7      7  DERECHO A LA INTIMIDAD-Alcance y contenido DER...             False   \n",
       "8      8  CARENCIA ACTUAL DE OBJETO POR DAÑO CONSUMADO-D...             False   \n",
       "9      9  ACCION DE TUTELA CONTRA PARTICULARES-Solicitud...             False   \n",
       "\n",
       "   mentions_piar  \n",
       "0          False  \n",
       "1          False  \n",
       "2          False  \n",
       "3          False  \n",
       "4          False  \n",
       "5          False  \n",
       "6          False  \n",
       "7          False  \n",
       "8          False  \n",
       "9          False  "
      ]
     },
     "execution_count": 13,
     "metadata": {},
     "output_type": "execute_result"
    }
   ],
   "source": [
    "PATH_OUTPUT = \"C:/Users/nat27/Desktop/Desktop/Proyectos/CienciaDatos/legal-consulting-poc/data/clean/\"\n",
    "df.to_csv(PATH_OUTPUT + \"sentencias_limpio_full.csv\", index=False, encoding=\"utf-8\")\n",
    "\n",
    "df_rag[['doc_id','documento','is_acoso_escolar','mentions_piar','anio']].to_csv(\n",
    "    PATH_OUTPUT + \"sentencias_rag_base.csv\", index=False, encoding=\"utf-8\"\n",
    ")\n",
    "# Vista rápida\n",
    "df_rag[['doc_id','tema_subtema','is_acoso_escolar','mentions_piar']].head(10)"
   ]
  }
 ],
 "metadata": {
  "kernelspec": {
   "display_name": "Python 3",
   "language": "python",
   "name": "python3"
  },
  "language_info": {
   "codemirror_mode": {
    "name": "ipython",
    "version": 3
   },
   "file_extension": ".py",
   "mimetype": "text/x-python",
   "name": "python",
   "nbconvert_exporter": "python",
   "pygments_lexer": "ipython3",
   "version": "3.12.7"
  }
 },
 "nbformat": 4,
 "nbformat_minor": 5
}
