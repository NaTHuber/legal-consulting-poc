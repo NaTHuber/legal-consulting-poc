{
 "cells": [
  {
   "cell_type": "markdown",
   "id": "8ba92c9f",
   "metadata": {},
   "source": [
    "# Proyecto - Asesor legal para consultar historia de demandas.\n",
    "## Generación de embeddings \n",
    "\n",
    "Para esta parte del proyecto se seguirá el siguiente esquema en código \n",
    "\n",
    "```mermaid\n",
    "    graph LR \n",
    "        A[ 1 <br> Cargar el dataset limpio]-->B[2 <br> Embeddings con SentenceTransformers]\n",
    "        B-->C[3 <br> Vector Store con Chroma ]\n",
    "```"
   ]
  },
  {
   "cell_type": "markdown",
   "id": "803ffcd9",
   "metadata": {},
   "source": [
    "### 1. Cargar el dataset limpio "
   ]
  },
  {
   "cell_type": "code",
   "execution_count": 1,
   "id": "3cdcd631",
   "metadata": {},
   "outputs": [
    {
     "data": {
      "text/plain": [
       "(180,\n",
       " ['id_raw',\n",
       "  'relevancia',\n",
       "  'providencia',\n",
       "  'tipo',\n",
       "  'fecha_sentencia',\n",
       "  'tema_subtema',\n",
       "  'resuelve',\n",
       "  'sintesis',\n",
       "  'doc_id',\n",
       "  'anio'])"
      ]
     },
     "execution_count": 1,
     "metadata": {},
     "output_type": "execute_result"
    }
   ],
   "source": [
    "import pandas as pd\n",
    "\n",
    "df_full = pd.read_csv(\"C:/Users/nat27/Desktop/Desktop/Proyectos/CienciaDatos/legal-consulting-poc/data/clean/sentencias_limpio_full.csv\")\n",
    "\n",
    "\n",
    "# Nos enfocamos a los casos marcados como redes sociales \n",
    "df_rag = df_full[df_full[\"is_redes_sociales\"]].copy()\n",
    "\n",
    "# Reasegurar texto base para embeddings (si no existe, lo reconstruimos rápido)\n",
    "def build_document(row):\n",
    "    partes = []\n",
    "    if pd.notna(row.get(\"providencia\")):   partes.append(f\"Providencia: {row['providencia']}\")\n",
    "    if pd.notna(row.get(\"tema_subtema\")):  partes.append(f\"Tema/Subtema: {row['tema_subtema']}\")\n",
    "    if pd.notna(row.get(\"sintesis\")):      partes.append(f\"Sintesis: {row['sintesis']}\")\n",
    "    if pd.notna(row.get(\"resuelve\")):      partes.append(f\"Resuelve: {row['resuelve']}\")\n",
    "    fecha = row[\"fecha_sentencia\"] if \"fecha_sentencia\" in row and pd.notna(row[\"fecha_sentencia\"]) else \"Desconocida\"\n",
    "    partes.append(f\"Fecha sentencia: {fecha}\")\n",
    "    return \"\\n\".join([p for p in partes if p])\n",
    "\n",
    "if \"documento\" not in df_rag.columns:\n",
    "    df_rag[\"documento\"] = df_rag.apply(build_document, axis=1)\n",
    "\n",
    "# Asegura ids como str\n",
    "df_rag[\"doc_id\"] = df_rag[\"doc_id\"].astype(str)\n",
    "len(df_rag), df_rag.columns.tolist()[:10]\n"
   ]
  },
  {
   "cell_type": "markdown",
   "id": "2ac37d31",
   "metadata": {},
   "source": [
    "### 2. Embeddings con sentence transformes "
   ]
  },
  {
   "cell_type": "code",
   "execution_count": 2,
   "id": "b0b76e6b",
   "metadata": {},
   "outputs": [
    {
     "data": {
      "application/vnd.jupyter.widget-view+json": {
       "model_id": "3173767bb4a940928c43deff2c7f9193",
       "version_major": 2,
       "version_minor": 0
      },
      "text/plain": [
       "Batches:   0%|          | 0/3 [00:00<?, ?it/s]"
      ]
     },
     "metadata": {},
     "output_type": "display_data"
    },
    {
     "data": {
      "text/plain": [
       "(180, 384)"
      ]
     },
     "execution_count": 2,
     "metadata": {},
     "output_type": "execute_result"
    }
   ],
   "source": [
    "from sentence_transformers import SentenceTransformer\n",
    "import numpy as np\n",
    "\n",
    "embedding_model_name = \"all-MiniLM-L6-v2\"  \n",
    "embedder = SentenceTransformer(embedding_model_name)\n",
    "\n",
    "# Calculamos embeddings por lotes \n",
    "texts = df_rag[\"documento\"].tolist()\n",
    "embeddings = embedder.encode(texts, batch_size=64, show_progress_bar=True, convert_to_numpy=True)\n",
    "\n",
    "# Guardamos en RAM \n",
    "embeddings.shape"
   ]
  }
 ],
 "metadata": {
  "kernelspec": {
   "display_name": "Python 3",
   "language": "python",
   "name": "python3"
  },
  "language_info": {
   "codemirror_mode": {
    "name": "ipython",
    "version": 3
   },
   "file_extension": ".py",
   "mimetype": "text/x-python",
   "name": "python",
   "nbconvert_exporter": "python",
   "pygments_lexer": "ipython3",
   "version": "3.12.7"
  }
 },
 "nbformat": 4,
 "nbformat_minor": 5
}
